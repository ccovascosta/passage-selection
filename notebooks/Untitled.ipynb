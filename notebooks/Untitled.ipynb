{
 "cells": [
  {
   "cell_type": "code",
   "execution_count": 5,
   "id": "429ac53f",
   "metadata": {},
   "outputs": [],
   "source": [
    "response = {\n",
    "\t\"id\": \"97813271-fe74-465d-b9d5-577e77079253\",\n",
    "\t\"results\": [\n",
    "\t\t{\n",
    "\t\t\t\"document\": {\n",
    "\t\t\t\t\"text\": \"Washington, D.C. (also known as simply Washington or D.C., and officially as the District of Columbia) is the capital of the United States. It is a federal district. The President of the USA and many major national government offices are in the territory. This makes it the political center of the United States of America.\"\n",
    "\t\t\t},\n",
    "\t\t\t\"index\": 3,\n",
    "\t\t\t\"relevance_score\": 0.9990564\n",
    "\t\t},\n",
    "\t\t{\n",
    "\t\t\t\"document\": {\n",
    "\t\t\t\t\"text\": \"Capital punishment (the death penalty) has existed in the United States since before the United States was a country. As of 2017, capital punishment is legal in 30 of the 50 states. The federal government (including the United States military) also uses capital punishment.\"\n",
    "\t\t\t},\n",
    "\t\t\t\"index\": 4,\n",
    "\t\t\t\"relevance_score\": 0.7516481\n",
    "\t\t},\n",
    "\t\t{\n",
    "\t\t\t\"document\": {\n",
    "\t\t\t\t\"text\": \"The Commonwealth of the Northern Mariana Islands is a group of islands in the Pacific Ocean that are a political division controlled by the United States. Its capital is Saipan.\"\n",
    "\t\t\t},\n",
    "\t\t\t\"index\": 1,\n",
    "\t\t\t\"relevance_score\": 0.08882029\n",
    "\t\t},\n",
    "\t\t{\n",
    "\t\t\t\"document\": {\n",
    "\t\t\t\t\"text\": \"Carson City is the capital city of the American state of Nevada. At the 2010 United States Census, Carson City had a population of 55,274.\"\n",
    "\t\t\t},\n",
    "\t\t\t\"index\": 0,\n",
    "\t\t\t\"relevance_score\": 0.058238626\n",
    "\t\t},\n",
    "\t\t{\n",
    "\t\t\t\"document\": {\n",
    "\t\t\t\t\"text\": \"Charlotte Amalie is the capital and largest city of the United States Virgin Islands. It has about 20,000 people. The city is on the island of Saint Thomas.\"\n",
    "\t\t\t},\n",
    "\t\t\t\"index\": 2,\n",
    "\t\t\t\"relevance_score\": 0.019946935\n",
    "\t\t}\n",
    "\t],\n",
    "\t\"meta\": {\n",
    "\t\t\"api_version\": {\n",
    "\t\t\t\"version\": \"2022-12-06\"\n",
    "\t\t},\n",
    "\t\t\"billed_units\": {\n",
    "\t\t\t\"search_units\": 1\n",
    "\t\t}\n",
    "\t}\n",
    "}\n"
   ]
  },
  {
   "cell_type": "code",
   "execution_count": 6,
   "id": "39530185",
   "metadata": {},
   "outputs": [
    {
     "data": {
      "text/plain": [
       "dict"
      ]
     },
     "execution_count": 6,
     "metadata": {},
     "output_type": "execute_result"
    }
   ],
   "source": [
    "type(response)"
   ]
  },
  {
   "cell_type": "code",
   "execution_count": 9,
   "id": "edf08746",
   "metadata": {},
   "outputs": [],
   "source": [
    "ranked_passages = sorted(response['results'], key=lambda x: x['relevance_score'], reverse=True)[:3]"
   ]
  },
  {
   "cell_type": "code",
   "execution_count": 15,
   "id": "43653d89",
   "metadata": {},
   "outputs": [
    {
     "data": {
      "text/plain": [
       "[{'document': {'text': 'Washington, D.C. (also known as simply Washington or D.C., and officially as the District of Columbia) is the capital of the United States. It is a federal district. The President of the USA and many major national government offices are in the territory. This makes it the political center of the United States of America.'},\n",
       "  'index': 3,\n",
       "  'relevance_score': 0.9990564},\n",
       " {'document': {'text': 'Capital punishment (the death penalty) has existed in the United States since before the United States was a country. As of 2017, capital punishment is legal in 30 of the 50 states. The federal government (including the United States military) also uses capital punishment.'},\n",
       "  'index': 4,\n",
       "  'relevance_score': 0.7516481},\n",
       " {'document': {'text': 'The Commonwealth of the Northern Mariana Islands is a group of islands in the Pacific Ocean that are a political division controlled by the United States. Its capital is Saipan.'},\n",
       "  'index': 1,\n",
       "  'relevance_score': 0.08882029}]"
      ]
     },
     "execution_count": 15,
     "metadata": {},
     "output_type": "execute_result"
    }
   ],
   "source": [
    "ranked_passages"
   ]
  },
  {
   "cell_type": "code",
   "execution_count": 18,
   "id": "e1aca9c6",
   "metadata": {},
   "outputs": [
    {
     "data": {
      "text/plain": [
       "[('doc_name',\n",
       "  'Washington, D.C. (also known as simply Washington or D.C., and officially as the District of Columbia) is the capital of the United States. It is a federal district. The President of the USA and many major national government offices are in the territory. This makes it the political center of the United States of America.',\n",
       "  0.9990564),\n",
       " ('doc_name',\n",
       "  'Capital punishment (the death penalty) has existed in the United States since before the United States was a country. As of 2017, capital punishment is legal in 30 of the 50 states. The federal government (including the United States military) also uses capital punishment.',\n",
       "  0.7516481),\n",
       " ('doc_name',\n",
       "  'The Commonwealth of the Northern Mariana Islands is a group of islands in the Pacific Ocean that are a political division controlled by the United States. Its capital is Saipan.',\n",
       "  0.08882029)]"
      ]
     },
     "execution_count": 18,
     "metadata": {},
     "output_type": "execute_result"
    }
   ],
   "source": [
    "[('doc_name', passage['document']['text'], passage['relevance_score']) for passage in ranked_passages]"
   ]
  },
  {
   "cell_type": "code",
   "execution_count": 20,
   "id": "94600e0c",
   "metadata": {},
   "outputs": [
    {
     "name": "stdout",
     "output_type": "stream",
     "text": [
      "Collecting cohereNote: you may need to restart the kernel to use updated packages.\n",
      "\n",
      "  Using cached cohere-5.5.8-py3-none-any.whl (173 kB)\n",
      "Requirement already satisfied: requests<3.0.0,>=2.0.0 in c:\\users\\ccovascosta\\anaconda3\\lib\\site-packages (from cohere) (2.27.1)\n",
      "Collecting httpx-sse<0.5.0,>=0.4.0\n",
      "  Using cached httpx_sse-0.4.0-py3-none-any.whl (7.8 kB)\n",
      "Collecting pydantic>=1.9.2\n",
      "  Using cached pydantic-2.8.0-py3-none-any.whl (423 kB)\n",
      "Requirement already satisfied: tokenizers<1,>=0.15 in c:\\users\\ccovascosta\\anaconda3\\lib\\site-packages (from cohere) (0.19.1)\n",
      "Requirement already satisfied: typing_extensions>=4.0.0 in c:\\users\\ccovascosta\\anaconda3\\lib\\site-packages (from cohere) (4.12.2)\n",
      "Collecting boto3<2.0.0,>=1.34.0\n",
      "  Using cached boto3-1.34.138-py3-none-any.whl (139 kB)\n",
      "Collecting fastavro<2.0.0,>=1.9.4\n",
      "  Downloading fastavro-1.9.4-cp39-cp39-win_amd64.whl (546 kB)\n",
      "Collecting parameterized<0.10.0,>=0.9.0\n",
      "  Using cached parameterized-0.9.0-py2.py3-none-any.whl (20 kB)\n",
      "Collecting httpx>=0.21.2\n",
      "  Using cached httpx-0.27.0-py3-none-any.whl (75 kB)\n",
      "Collecting types-requests<3.0.0,>=2.0.0\n",
      "  Using cached types_requests-2.32.0.20240622-py3-none-any.whl (15 kB)\n",
      "Requirement already satisfied: jmespath<2.0.0,>=0.7.1 in c:\\users\\ccovascosta\\anaconda3\\lib\\site-packages (from boto3<2.0.0,>=1.34.0->cohere) (0.10.0)\n",
      "Collecting s3transfer<0.11.0,>=0.10.0\n",
      "  Using cached s3transfer-0.10.2-py3-none-any.whl (82 kB)\n",
      "Collecting botocore<1.35.0,>=1.34.138\n",
      "  Using cached botocore-1.34.138-py3-none-any.whl (12.4 MB)\n",
      "Requirement already satisfied: python-dateutil<3.0.0,>=2.1 in c:\\users\\ccovascosta\\anaconda3\\lib\\site-packages (from botocore<1.35.0,>=1.34.138->boto3<2.0.0,>=1.34.0->cohere) (2.8.2)\n",
      "Requirement already satisfied: urllib3<1.27,>=1.25.4 in c:\\users\\ccovascosta\\anaconda3\\lib\\site-packages (from botocore<1.35.0,>=1.34.138->boto3<2.0.0,>=1.34.0->cohere) (1.26.9)\n",
      "Collecting httpcore==1.*\n",
      "  Using cached httpcore-1.0.5-py3-none-any.whl (77 kB)\n",
      "Requirement already satisfied: sniffio in c:\\users\\ccovascosta\\anaconda3\\lib\\site-packages (from httpx>=0.21.2->cohere) (1.2.0)\n",
      "Requirement already satisfied: idna in c:\\users\\ccovascosta\\anaconda3\\lib\\site-packages (from httpx>=0.21.2->cohere) (3.3)\n",
      "Requirement already satisfied: certifi in c:\\users\\ccovascosta\\anaconda3\\lib\\site-packages (from httpx>=0.21.2->cohere) (2021.10.8)\n",
      "Requirement already satisfied: anyio in c:\\users\\ccovascosta\\anaconda3\\lib\\site-packages (from httpx>=0.21.2->cohere) (3.5.0)\n",
      "Collecting h11<0.15,>=0.13\n",
      "  Using cached h11-0.14.0-py3-none-any.whl (58 kB)\n",
      "Collecting pydantic-core==2.20.0\n",
      "  Downloading pydantic_core-2.20.0-cp39-none-win_amd64.whl (1.9 MB)\n",
      "Collecting annotated-types>=0.4.0\n",
      "  Using cached annotated_types-0.7.0-py3-none-any.whl (13 kB)\n",
      "Requirement already satisfied: six>=1.5 in c:\\users\\ccovascosta\\anaconda3\\lib\\site-packages (from python-dateutil<3.0.0,>=2.1->botocore<1.35.0,>=1.34.138->boto3<2.0.0,>=1.34.0->cohere) (1.16.0)\n",
      "Requirement already satisfied: charset-normalizer~=2.0.0 in c:\\users\\ccovascosta\\anaconda3\\lib\\site-packages (from requests<3.0.0,>=2.0.0->cohere) (2.0.4)\n",
      "Requirement already satisfied: huggingface-hub<1.0,>=0.16.4 in c:\\users\\ccovascosta\\anaconda3\\lib\\site-packages (from tokenizers<1,>=0.15->cohere) (0.23.4)\n",
      "Requirement already satisfied: pyyaml>=5.1 in c:\\users\\ccovascosta\\anaconda3\\lib\\site-packages (from huggingface-hub<1.0,>=0.16.4->tokenizers<1,>=0.15->cohere) (6.0)\n",
      "Requirement already satisfied: filelock in c:\\users\\ccovascosta\\anaconda3\\lib\\site-packages (from huggingface-hub<1.0,>=0.16.4->tokenizers<1,>=0.15->cohere) (3.6.0)\n",
      "Requirement already satisfied: tqdm>=4.42.1 in c:\\users\\ccovascosta\\anaconda3\\lib\\site-packages (from huggingface-hub<1.0,>=0.16.4->tokenizers<1,>=0.15->cohere) (4.64.0)\n",
      "Requirement already satisfied: packaging>=20.9 in c:\\users\\ccovascosta\\anaconda3\\lib\\site-packages (from huggingface-hub<1.0,>=0.16.4->tokenizers<1,>=0.15->cohere) (21.3)\n",
      "Requirement already satisfied: fsspec>=2023.5.0 in c:\\users\\ccovascosta\\anaconda3\\lib\\site-packages (from huggingface-hub<1.0,>=0.16.4->tokenizers<1,>=0.15->cohere) (2024.6.1)\n",
      "Requirement already satisfied: pyparsing!=3.0.5,>=2.0.2 in c:\\users\\ccovascosta\\anaconda3\\lib\\site-packages (from packaging>=20.9->huggingface-hub<1.0,>=0.16.4->tokenizers<1,>=0.15->cohere) (3.0.4)\n",
      "Requirement already satisfied: colorama in c:\\users\\ccovascosta\\anaconda3\\lib\\site-packages (from tqdm>=4.42.1->huggingface-hub<1.0,>=0.16.4->tokenizers<1,>=0.15->cohere) (0.4.4)\n",
      "Collecting types-requests<3.0.0,>=2.0.0\n",
      "  Downloading types_requests-2.32.0.20240602-py3-none-any.whl (15 kB)\n",
      "  Downloading types_requests-2.32.0.20240523-py3-none-any.whl (15 kB)\n",
      "  Downloading types_requests-2.32.0.20240521-py3-none-any.whl (15 kB)\n",
      "  Downloading types_requests-2.31.0.20240406-py3-none-any.whl (15 kB)\n",
      "  Downloading types_requests-2.31.0.20240403-py3-none-any.whl (15 kB)\n",
      "  Downloading types_requests-2.31.0.20240402-py3-none-any.whl (15 kB)\n",
      "  Downloading types_requests-2.31.0.20240311-py3-none-any.whl (14 kB)\n",
      "  Downloading types_requests-2.31.0.20240310-py3-none-any.whl (14 kB)\n",
      "  Downloading types_requests-2.31.0.20240218-py3-none-any.whl (14 kB)\n",
      "  Downloading types_requests-2.31.0.20240125-py3-none-any.whl (14 kB)\n",
      "  Downloading types_requests-2.31.0.20240106-py3-none-any.whl (14 kB)\n",
      "  Downloading types_requests-2.31.0.20231231-py3-none-any.whl (14 kB)\n",
      "  Downloading types_requests-2.31.0.10-py3-none-any.whl (14 kB)\n",
      "  Downloading types_requests-2.31.0.9-py3-none-any.whl (14 kB)\n",
      "  Downloading types_requests-2.31.0.8-py3-none-any.whl (14 kB)\n",
      "  Downloading types_requests-2.31.0.7-py3-none-any.whl (14 kB)\n",
      "  Downloading types_requests-2.31.0.6-py3-none-any.whl (14 kB)\n",
      "Collecting types-urllib3\n",
      "  Downloading types_urllib3-1.26.25.14-py3-none-any.whl (15 kB)\n",
      "Installing collected packages: h11, botocore, types-urllib3, s3transfer, pydantic-core, httpcore, annotated-types, types-requests, pydantic, parameterized, httpx-sse, httpx, fastavro, boto3, cohere\n",
      "  Attempting uninstall: botocore\n",
      "    Found existing installation: botocore 1.24.32\n",
      "    Uninstalling botocore-1.24.32:\n",
      "      Successfully uninstalled botocore-1.24.32\n",
      "  Attempting uninstall: s3transfer\n",
      "    Found existing installation: s3transfer 0.5.0\n",
      "    Uninstalling s3transfer-0.5.0:\n",
      "      Successfully uninstalled s3transfer-0.5.0\n",
      "  Attempting uninstall: boto3\n",
      "    Found existing installation: boto3 1.21.32\n",
      "    Uninstalling boto3-1.21.32:\n",
      "      Successfully uninstalled boto3-1.21.32\n",
      "Successfully installed annotated-types-0.7.0 boto3-1.34.138 botocore-1.34.138 cohere-5.5.8 fastavro-1.9.4 h11-0.14.0 httpcore-1.0.5 httpx-0.27.0 httpx-sse-0.4.0 parameterized-0.9.0 pydantic-2.8.0 pydantic-core-2.20.0 s3transfer-0.10.2 types-requests-2.31.0.6 types-urllib3-1.26.25.14\n"
     ]
    }
   ],
   "source": [
    "pip install cohere"
   ]
  },
  {
   "cell_type": "code",
   "execution_count": 21,
   "id": "819e39f6",
   "metadata": {},
   "outputs": [],
   "source": [
    "import cohere"
   ]
  },
  {
   "cell_type": "code",
   "execution_count": 22,
   "id": "97e52e43",
   "metadata": {},
   "outputs": [],
   "source": [
    "cohere_client = cohere.Client('KstgNdd7d5wUyUYwoonCmUo1igq6KwLLLzL1EG4Q')\n"
   ]
  },
  {
   "cell_type": "code",
   "execution_count": 42,
   "id": "499f1927",
   "metadata": {},
   "outputs": [],
   "source": [
    "def cohere_rerank(query, passages, top_n):\n",
    "    response = cohere_client.rerank(\n",
    "        model='rerank-english-v3.0',\n",
    "        query=query,\n",
    "        documents= passages,#[{\"text\": passage} for passage in passages],\n",
    "        top_n=top_n,\n",
    "        return_documents=True\n",
    "    )\n",
    "    return response.results"
   ]
  },
  {
   "cell_type": "code",
   "execution_count": 43,
   "id": "6e925d92",
   "metadata": {},
   "outputs": [],
   "source": [
    "query =  'How does regular consumption of tea impact cognitive function and cardiovascular health?'"
   ]
  },
  {
   "cell_type": "code",
   "execution_count": 44,
   "id": "6a38e10a",
   "metadata": {},
   "outputs": [],
   "source": [
    "Passage1 = \"International Scientif ic Journal – ISSN: 1679 -9844 Nº 2, volume 1 6, article nº 07, April/June 2021 D.O.I: http://d x.doi.org/10.6020/1679 -9844/v1 6n2a7 Accepted: 20/12/2019 Published: 20/06/2021 ISSN: 16 799844 – InterSciencePlace – International Scientific Journal Page 132 BENEFICIAL AND ADVERSE EFFECTS OF CAFFEINE CONSUMPTION ON HUMAN BODY: A COMPREHENSIVE REVIEW EFEITOS BENÉFICOS E ADVERSOS DO CONSUMO DE CAFEÍNA NO ORGANISMO HUMANO: UMA REVISÃO GERAL José Wellington Macêdo Viana Universidade Federal do Cariri , Pós-Grad uando em Microbiologia wellingtonmacedo1819@gmail.com Rodolfo Pinheiro Torres Universidade Federal do Piauí , Professor Bolsista do Programa Língua sem Fronteiras rodolfotorres23366@gmail.com Thais Faustino Bezerra Universidade Regional do Cariri , Pós-Graduanda em Educação Especial e Inclusiva: Ação Docente Especializada thaisfaustino00@gmail.com Francisco Wlirian Nobre Doutorando no Programa de Pós -Graduação em Geografia - PPGG da Universidade Federal da Pa raíba lironobre@yahoo.com.br Abstract : Caffeine (1,3,7 -trimethylxanthine) is a natural alkaloid substance found in different types of plants , in a variety of medications and in dietary supplements, as well as in popular energy drinks, in which the caffeine is added to improve its functional pro perties on the nervous system. Besides ISSN: 16799 844 – InterSciencePlace – International Scientific J ournal Page 133 its stimulating pr operties, caffeine acts as a potent antioxidant agent associated with the reduction of oxidative stress. On the other hand, studies have shown that the physiological effects of caffeine can be harmful to the human body depending on the frequency of use and the dose of\"\n",
    "Passage2 = \"have shown that the physiological effects of caffeine can be harmful to the human body depending on the frequency of use and the dose of consumption. In this context, the purpose of this review is to summarize and to understand through the analysis of scientific researches , the benefits and risks of caffeine consumption on human body. According to literature, caffeine can be be neficial when it is taken in moderat e amount of dosage by healthy adults (<450 mg /day), or harmful to human health when it is consumed in high doses (> 450 mg/day ). In this case , it contributes to the development of diverse physiological changes, mainly rel ated to the nervous, cardiovascular and renal systems . In addition, it is important to take into account that the adverse eff ects of caffeine on the body varies according to weight, gender , age, the use of certain kinds of medications and the differences i n sensitivity including hypertensive people and diabetic people . Nonetheless, future research es are needed to add ress further information to these emerging concerns in order to provide a greater empirical support for the caffeine consumption recommendation s. Keywords : Caffeine, Beneficial and Harmful Effects, Dose of Consumption, Frequency of Use. Resumo : A cafeína (1,3,7 -trimetil xantina) é uma substância alcalo ide natural encontrada em diferentes tipos de plantas, em uma variedade de medicamentos e e m suplementos dietéticos, bem como nas populares bebidas\"\n",
    "Passage3 = \"substância alcalo ide natural encontrada em diferentes tipos de plantas\""
   ]
  },
  {
   "cell_type": "code",
   "execution_count": 45,
   "id": "797c4d10",
   "metadata": {},
   "outputs": [],
   "source": [
    "response = cohere_rerank(query, [Passage1,Passage2,Passage3], top_n=3)\n"
   ]
  },
  {
   "cell_type": "code",
   "execution_count": 46,
   "id": "7caacabe",
   "metadata": {},
   "outputs": [
    {
     "data": {
      "text/plain": [
       "[RerankResponseResultsItem(document=RerankResponseResultsItemDocument(text='have shown that the physiological effects of caffeine can be harmful to the human body depending on the frequency of use and the dose of consumption. In this context, the purpose of this review is to summarize and to understand through the analysis of scientific researches , the benefits and risks of caffeine consumption on human body. According to literature, caffeine can be be neficial when it is taken in moderat e amount of dosage by healthy adults (<450 mg /day), or harmful to human health when it is consumed in high doses (> 450 mg/day ). In this case , it contributes to the development of diverse physiological changes, mainly rel ated to the nervous, cardiovascular and renal systems . In addition, it is important to take into account that the adverse eff ects of caffeine on the body varies according to weight, gender , age, the use of certain kinds of medications and the differences i n sensitivity including hypertensive people and diabetic people . Nonetheless, future research es are needed to add ress further information to these emerging concerns in order to provide a greater empirical support for the caffeine consumption recommendation s. Keywords : Caffeine, Beneficial and Harmful Effects, Dose of Consumption, Frequency of Use. Resumo : A cafeína (1,3,7 -trimetil xantina) é uma substância alcalo ide natural encontrada em diferentes tipos de plantas, em uma variedade de medicamentos e e m suplementos dietéticos, bem como nas populares bebidas'), index=1, relevance_score=0.007606672),\n",
       " RerankResponseResultsItem(document=RerankResponseResultsItemDocument(text='International Scientif ic Journal – ISSN: 1679 -9844 Nº 2, volume 1 6, article nº 07, April/June 2021 D.O.I: http://d x.doi.org/10.6020/1679 -9844/v1 6n2a7 Accepted: 20/12/2019 Published: 20/06/2021 ISSN: 16 799844 – InterSciencePlace – International Scientific Journal Page 132 BENEFICIAL AND ADVERSE EFFECTS OF CAFFEINE CONSUMPTION ON HUMAN BODY: A COMPREHENSIVE REVIEW EFEITOS BENÉFICOS E ADVERSOS DO CONSUMO DE CAFEÍNA NO ORGANISMO HUMANO: UMA REVISÃO GERAL José Wellington Macêdo Viana Universidade Federal do Cariri , Pós-Grad uando em Microbiologia wellingtonmacedo1819@gmail.com Rodolfo Pinheiro Torres Universidade Federal do Piauí , Professor Bolsista do Programa Língua sem Fronteiras rodolfotorres23366@gmail.com Thais Faustino Bezerra Universidade Regional do Cariri , Pós-Graduanda em Educação Especial e Inclusiva: Ação Docente Especializada thaisfaustino00@gmail.com Francisco Wlirian Nobre Doutorando no Programa de Pós -Graduação em Geografia - PPGG da Universidade Federal da Pa raíba lironobre@yahoo.com.br Abstract : Caffeine (1,3,7 -trimethylxanthine) is a natural alkaloid substance found in different types of plants , in a variety of medications and in dietary supplements, as well as in popular energy drinks, in which the caffeine is added to improve its functional pro perties on the nervous system. Besides ISSN: 16799 844 – InterSciencePlace – International Scientific J ournal Page 133 its stimulating pr operties, caffeine acts as a potent antioxidant agent associated with the reduction of oxidative stress. On the other hand, studies have shown that the physiological effects of caffeine can be harmful to the human body depending on the frequency of use and the dose of'), index=0, relevance_score=0.00011235328),\n",
       " RerankResponseResultsItem(document=RerankResponseResultsItemDocument(text='substância alcalo ide natural encontrada em diferentes tipos de plantas'), index=2, relevance_score=1.4971084e-05)]"
      ]
     },
     "execution_count": 46,
     "metadata": {},
     "output_type": "execute_result"
    }
   ],
   "source": [
    "response"
   ]
  },
  {
   "cell_type": "code",
   "execution_count": 48,
   "id": "e4c81832",
   "metadata": {},
   "outputs": [],
   "source": [
    "ranked_passages = sorted(response, key=lambda x: x.relevance_score, reverse=True)[:3]"
   ]
  },
  {
   "cell_type": "code",
   "execution_count": 49,
   "id": "885daa30",
   "metadata": {},
   "outputs": [
    {
     "ename": "TypeError",
     "evalue": "'RerankResponseResultsItemDocument' object is not subscriptable",
     "output_type": "error",
     "traceback": [
      "\u001b[1;31m---------------------------------------------------------------------------\u001b[0m",
      "\u001b[1;31mTypeError\u001b[0m                                 Traceback (most recent call last)",
      "Input \u001b[1;32mIn [49]\u001b[0m, in \u001b[0;36m<cell line: 1>\u001b[1;34m()\u001b[0m\n\u001b[1;32m----> 1\u001b[0m top_passages \u001b[38;5;241m=\u001b[39m [(\u001b[38;5;124m'\u001b[39m\u001b[38;5;124mdoc_name\u001b[39m\u001b[38;5;124m'\u001b[39m, passage\u001b[38;5;241m.\u001b[39mdocument[\u001b[38;5;124m'\u001b[39m\u001b[38;5;124mtext\u001b[39m\u001b[38;5;124m'\u001b[39m] \u001b[38;5;28;01mif\u001b[39;00m passage\u001b[38;5;241m.\u001b[39mdocument \u001b[38;5;129;01mis\u001b[39;00m \u001b[38;5;129;01mnot\u001b[39;00m \u001b[38;5;28;01mNone\u001b[39;00m \u001b[38;5;28;01melse\u001b[39;00m \u001b[38;5;124m\"\u001b[39m\u001b[38;5;124m\"\u001b[39m, passage\u001b[38;5;241m.\u001b[39mrelevance_score) \u001b[38;5;28;01mfor\u001b[39;00m passage \u001b[38;5;129;01min\u001b[39;00m ranked_passages]\n",
      "Input \u001b[1;32mIn [49]\u001b[0m, in \u001b[0;36m<listcomp>\u001b[1;34m(.0)\u001b[0m\n\u001b[1;32m----> 1\u001b[0m top_passages \u001b[38;5;241m=\u001b[39m [(\u001b[38;5;124m'\u001b[39m\u001b[38;5;124mdoc_name\u001b[39m\u001b[38;5;124m'\u001b[39m, \u001b[43mpassage\u001b[49m\u001b[38;5;241;43m.\u001b[39;49m\u001b[43mdocument\u001b[49m\u001b[43m[\u001b[49m\u001b[38;5;124;43m'\u001b[39;49m\u001b[38;5;124;43mtext\u001b[39;49m\u001b[38;5;124;43m'\u001b[39;49m\u001b[43m]\u001b[49m \u001b[38;5;28;01mif\u001b[39;00m passage\u001b[38;5;241m.\u001b[39mdocument \u001b[38;5;129;01mis\u001b[39;00m \u001b[38;5;129;01mnot\u001b[39;00m \u001b[38;5;28;01mNone\u001b[39;00m \u001b[38;5;28;01melse\u001b[39;00m \u001b[38;5;124m\"\u001b[39m\u001b[38;5;124m\"\u001b[39m, passage\u001b[38;5;241m.\u001b[39mrelevance_score) \u001b[38;5;28;01mfor\u001b[39;00m passage \u001b[38;5;129;01min\u001b[39;00m ranked_passages]\n",
      "\u001b[1;31mTypeError\u001b[0m: 'RerankResponseResultsItemDocument' object is not subscriptable"
     ]
    }
   ],
   "source": [
    "top_passages = [('doc_name', passage.document['text'] if passage.document is not None else \"\", passage.relevance_score) for passage in ranked_passages]"
   ]
  },
  {
   "cell_type": "code",
   "execution_count": 38,
   "id": "c1bca69a",
   "metadata": {},
   "outputs": [],
   "source": [
    "query = \"What is the capital of the United States?\"\n",
    "docs = [\n",
    "    \"Carson City is the capital city of the American state of Nevada. At the 2010 United States Census, Carson City had a population of 55,274.\",\n",
    "    \"The Commonwealth of the Northern Mariana Islands is a group of islands in the Pacific Ocean that are a political division controlled by the United States. Its capital is Saipan.\",\n",
    "    \"Charlotte Amalie is the capital and largest city of the United States Virgin Islands. It has about 20,000 people. The city is on the island of Saint Thomas.\",\n",
    "    \"Washington, D.C. (also known as simply Washington or D.C., and officially as the District of Columbia) is the capital of the United States. It is a federal district. The President of the USA and many major national government offices are in the territory. This makes it the political center of the United States of America.\",\n",
    "    \"Capital punishment (the death penalty) has existed in the United States since before the United States was a country. As of 2017, capital punishment is legal in 30 of the 50 states. The federal government (including the United States military) also uses capital punishment.\"]\n",
    "results = cohere_client.rerank(model=\"rerank-english-v3.0\", query=query, documents=docs, top_n=5, return_documents=True)"
   ]
  },
  {
   "cell_type": "code",
   "execution_count": 39,
   "id": "a70bfe78",
   "metadata": {},
   "outputs": [
    {
     "data": {
      "text/plain": [
       "RerankResponse(id='0f272f0b-abbf-46a4-a39a-3591c8ed1b17', results=[RerankResponseResultsItem(document=RerankResponseResultsItemDocument(text='Washington, D.C. (also known as simply Washington or D.C., and officially as the District of Columbia) is the capital of the United States. It is a federal district. The President of the USA and many major national government offices are in the territory. This makes it the political center of the United States of America.'), index=3, relevance_score=0.9990564), RerankResponseResultsItem(document=RerankResponseResultsItemDocument(text='Capital punishment (the death penalty) has existed in the United States since before the United States was a country. As of 2017, capital punishment is legal in 30 of the 50 states. The federal government (including the United States military) also uses capital punishment.'), index=4, relevance_score=0.7516481), RerankResponseResultsItem(document=RerankResponseResultsItemDocument(text='The Commonwealth of the Northern Mariana Islands is a group of islands in the Pacific Ocean that are a political division controlled by the United States. Its capital is Saipan.'), index=1, relevance_score=0.08882029), RerankResponseResultsItem(document=RerankResponseResultsItemDocument(text='Carson City is the capital city of the American state of Nevada. At the 2010 United States Census, Carson City had a population of 55,274.'), index=0, relevance_score=0.058238626), RerankResponseResultsItem(document=RerankResponseResultsItemDocument(text='Charlotte Amalie is the capital and largest city of the United States Virgin Islands. It has about 20,000 people. The city is on the island of Saint Thomas.'), index=2, relevance_score=0.019946935)], meta=ApiMeta(api_version=ApiMetaApiVersion(version='1', is_deprecated=None, is_experimental=None), billed_units=ApiMetaBilledUnits(input_tokens=None, output_tokens=None, search_units=1, classifications=None), tokens=None, warnings=None))"
      ]
     },
     "execution_count": 39,
     "metadata": {},
     "output_type": "execute_result"
    }
   ],
   "source": [
    "results"
   ]
  },
  {
   "cell_type": "code",
   "execution_count": null,
   "id": "0025fd66",
   "metadata": {},
   "outputs": [],
   "source": []
  },
  {
   "cell_type": "code",
   "execution_count": null,
   "id": "038dc40a",
   "metadata": {},
   "outputs": [],
   "source": [
    "import pandas as pd\n",
    "\n",
    "# Load a subset of the MS MARCO documents\n",
    "docs = pd.read_csv('msmarco-docs.tsv', sep='\\t', nrows=10000)\n",
    "\n",
    "# Load queries and qrels (relevance judgments)\n",
    "queries = pd.read_csv('msmarco-doctrain-queries.tsv', sep='\\t')\n",
    "qrels = pd.read_csv('msmarco-doctrain-qrels.tsv', sep='\\t')\n",
    "\n",
    "# Filter queries and qrels to match the subset of documents\n",
    "filtered_qrels = qrels[qrels['docid'].isin(docs['docid'])]\n",
    "filtered_queries = queries[queries['qid'].isin(filtered_qrels['qid'])]\n"
   ]
  },
  {
   "cell_type": "code",
   "execution_count": null,
   "id": "a707be02",
   "metadata": {},
   "outputs": [],
   "source": []
  }
 ],
 "metadata": {
  "kernelspec": {
   "display_name": "Python 3 (ipykernel)",
   "language": "python",
   "name": "python3"
  },
  "language_info": {
   "codemirror_mode": {
    "name": "ipython",
    "version": 3
   },
   "file_extension": ".py",
   "mimetype": "text/x-python",
   "name": "python",
   "nbconvert_exporter": "python",
   "pygments_lexer": "ipython3",
   "version": "3.9.12"
  }
 },
 "nbformat": 4,
 "nbformat_minor": 5
}
